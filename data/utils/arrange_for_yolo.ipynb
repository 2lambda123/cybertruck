{
 "cells": [
  {
   "cell_type": "code",
   "execution_count": null,
   "metadata": {},
   "outputs": [],
   "source": [
    "import os\n",
    "import shutil\n",
    "\n",
    "from support_function import *\n",
    "from scipy.io import loadmat\n",
    "import numpy as np"
   ]
  },
  {
   "cell_type": "code",
   "execution_count": null,
   "metadata": {},
   "outputs": [],
   "source": [
    "def get_img_and_corresponding_bbx(path):\n",
    "\n",
    "    folder_list = []\n",
    "    for element in os.walk(path): folder_list.append(element)\n",
    "    del folder_list[0]\n",
    "        \n",
    "    boxes_list = []\n",
    "    for folder in folder_list:\n",
    "        boxes = np.squeeze(loadmat(folder[0] + \"/\" + 'polygons.mat')['polygons'])\n",
    "        prepended_name = folder[0].split('/')[-1].lower()\n",
    "        boxes = getListBoxes(boxes)\n",
    "        folder[2].sort()\n",
    "        for i, photo_name in zip(range(100), folder[2]):\n",
    "\n",
    "            source_img_path = folder[0] + \"/\" + photo_name\n",
    "            image = cv2.imread(source_img_path)\n",
    "            height, width, _ = image.shape\n",
    "            # print(height, width)\n",
    "            new_dest_name = f'{prepended_name}_img_{i}.jpg'\n",
    "            dest_img_dir = \"../../utils/datasets/egohands/train/images\"\n",
    "            dest_img_path = os.path.join(dest_img_dir, new_dest_name)\n",
    "            bbxs = getBoxes(i, boxes)\n",
    "\n",
    "            shutil.copy(source_img_path, dest_img_path)\n",
    "            # [x y width height] is the bbox format found in the README and what is in bbxs\n",
    "            for bbx in bbxs:\n",
    "\n",
    "                bbox_width = bbx[1][0] - bbx[0][0]\n",
    "                bbox_height = bbx[1][1] - bbx[0][1]\n",
    "\n",
    "                x_center = bbx[0][0] + (bbox_width / 2)\n",
    "                y_center = bbx[0][1] + (bbox_height / 2)\n",
    "                \n",
    "                \n",
    "                with open(dest_img_path.replace(\"images\", \"labels\").replace(\".jpg\", \".txt\"), 'a') as f:\n",
    "                    f.write(f'0 {x_center/width} {y_center/height} {bbox_width/width} {bbox_height/height}\\n')\n",
    "            \n",
    "            print()\n",
    "            \n",
    "            boxes_list.append(getBoxes(i, boxes))\n",
    "        # break"
   ]
  },
  {
   "cell_type": "code",
   "execution_count": null,
   "metadata": {},
   "outputs": [],
   "source": [
    "\n",
    "#path to egohands_data/_LABELLED_SAMPLES folder\n",
    "\n",
    "root = os.path.dirname(os.path.abspath(os.getcwd()))\n",
    "\n",
    "get_img_and_corresponding_bbx(path=root + '/egohands_data/_LABELLED_SAMPLES')"
   ]
  }
 ],
 "metadata": {
  "kernelspec": {
   "display_name": "hands",
   "language": "python",
   "name": "python3"
  },
  "language_info": {
   "codemirror_mode": {
    "name": "ipython",
    "version": 3
   },
   "file_extension": ".py",
   "mimetype": "text/x-python",
   "name": "python",
   "nbconvert_exporter": "python",
   "pygments_lexer": "ipython3",
   "version": "3.11.5"
  }
 },
 "nbformat": 4,
 "nbformat_minor": 2
}
