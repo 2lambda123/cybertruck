{
 "cells": [
  {
   "cell_type": "markdown",
   "metadata": {},
   "source": [
    "Script made to ensure bounding boxes and centers are being selected correctly."
   ]
  },
  {
   "cell_type": "code",
   "execution_count": 1,
   "metadata": {},
   "outputs": [],
   "source": [
    "import os\n",
    "import shutil\n",
    "\n",
    "from support_function import *\n",
    "from scipy.io import loadmat\n",
    "import numpy as np\n",
    "import random\n",
    "from glob import glob"
   ]
  },
  {
   "cell_type": "code",
   "execution_count": 2,
   "metadata": {},
   "outputs": [],
   "source": [
    "def display_bbx(path):\n",
    "\n",
    "    folder_list = []\n",
    "    for element in os.walk(path): folder_list.append(element)\n",
    "    del folder_list[0]\n",
    " \n",
    "    # shuffle folders and files in folders\n",
    "    np.random.shuffle(folder_list)\n",
    "    for folder in folder_list:\n",
    "        boxes = np.squeeze(loadmat(folder[0] + \"/\" + 'polygons.mat')['polygons'])\n",
    "\n",
    "        boxes = getListBoxes(boxes)\n",
    "\n",
    "        idxs = range(100)\n",
    "        img_and_ids = list(zip(idxs, folder[2]))\n",
    "        np.random.shuffle(img_and_ids)\n",
    "        ids, folder2 = zip(*img_and_ids)\n",
    "        for i, photo_name in zip(ids, folder2):\n",
    "\n",
    "\n",
    "            source_img_path = folder[0] + \"/\" + photo_name\n",
    "\n",
    "            bbxs = getBoxes(i, boxes)\n",
    "            # [x y width height] is the bbox format found in the README and w/hat is in bbxs\n",
    "\n",
    "            centers = []\n",
    "            alt_centers = []\n",
    "            # print(bbxs)\n",
    "            for idx, bbx in enumerate(bbxs):\n",
    "                \n",
    "                bbox_width = bbx[1][0] - bbx[0][0]\n",
    "                bbox_height = bbx[1][1] - bbx[0][1]\n",
    "\n",
    "                print(bbx[0][0], bbx[0][1], bbox_width, bbox_height)\n",
    "\n",
    "                x_center = bbx[0][0] + (bbox_width / 2)\n",
    "                y_center = bbx[0][1] + (bbox_height / 2)\n",
    "                \n",
    "                alt_x_center = (bbx[0][0] + bbox_width) / 2\n",
    "                alt_y_center = (bbx[0][1] + bbox_width) / 2\n",
    "\n",
    "                centers.append((int(x_center), int(y_center)))\n",
    "                alt_centers.append((int(alt_x_center), int(alt_y_center)))\n",
    "            # showBoxes_2 displays bbox with red dots in center belonging to (x_center, y_center)\n",
    "            # green dots are the conventional method for calculating centers.\n",
    "            showBoxes_2(source_img_path, bbxs, centers, alt_centers)\n",
    "            break\n",
    "        break\n",
    "    print('ended')"
   ]
  },
  {
   "cell_type": "code",
   "execution_count": 3,
   "metadata": {},
   "outputs": [
    {
     "name": "stdout",
     "output_type": "stream",
     "text": [
      "244 701 108 17\n",
      "795 646 183 67\n",
      "672 343 98 88\n",
      "423 405 137 132\n"
     ]
    }
   ],
   "source": [
    "root = os.path.dirname(os.path.abspath(os.getcwd()))\n",
    "\n",
    "display_bbx(path=root + '/egohands_data/_LABELLED_SAMPLES')"
   ]
  },
  {
   "cell_type": "code",
   "execution_count": null,
   "metadata": {},
   "outputs": [],
   "source": []
  }
 ],
 "metadata": {
  "kernelspec": {
   "display_name": "hands",
   "language": "python",
   "name": "python3"
  },
  "language_info": {
   "codemirror_mode": {
    "name": "ipython",
    "version": 3
   },
   "file_extension": ".py",
   "mimetype": "text/x-python",
   "name": "python",
   "nbconvert_exporter": "python",
   "pygments_lexer": "ipython3",
   "version": "3.11.5"
  }
 },
 "nbformat": 4,
 "nbformat_minor": 2
}
