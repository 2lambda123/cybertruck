{
 "cells": [
  {
   "cell_type": "markdown",
   "metadata": {},
   "source": [
    "Quick example of how to obtain caffe model and convert to Pytorch. Will need to add caffe (and pytorch) to env: <br>\n",
    "```\n",
    "conda install -c anaconda caffe\n",
    "pip install protobuf==3.20*\n",
    "```\n"
   ]
  },
  {
   "cell_type": "code",
   "execution_count": 1,
   "metadata": {},
   "outputs": [
    {
     "name": "stdout",
     "output_type": "stream",
     "text": [
      "Net(\n",
      "  (conv1): Convolution(1, 96, kernel_size=(11, 11), stride=(4, 4))\n",
      "  (relu1): ReLU()\n",
      "  (pool1): MaxPool2d(kernel_size=3, stride=2, padding=0, dilation=1, ceil_mode=False)\n",
      "  (norm1): LocalResponseNorm(5, alpha=9.999999747378752e-05, beta=0.75, k=1.0)\n",
      "  (conv2): Convolution(2, 256, kernel_size=(5, 5), stride=(1, 1), padding=(2, 2), groups=2)\n",
      "  (relu2): ReLU()\n",
      "  (pool2): MaxPool2d(kernel_size=3, stride=2, padding=0, dilation=1, ceil_mode=False)\n",
      "  (norm2): LocalResponseNorm(5, alpha=9.999999747378752e-05, beta=0.75, k=1.0)\n",
      "  (conv3): Convolution(1, 384, kernel_size=(3, 3), stride=(1, 1), padding=(1, 1))\n",
      "  (relu3): ReLU()\n",
      "  (conv4): Convolution(2, 384, kernel_size=(3, 3), stride=(1, 1), padding=(1, 1), groups=2)\n",
      "  (relu4): ReLU()\n",
      "  (conv5): Convolution(2, 256, kernel_size=(3, 3), stride=(1, 1), padding=(1, 1), groups=2)\n",
      "  (relu5): ReLU()\n",
      "  (pool5): MaxPool2d(kernel_size=3, stride=2, padding=0, dilation=1, ceil_mode=False)\n",
      "  (fc6): InnerProduct(in_features=1, out_features=4096, bias=True)\n",
      "  (relu6): ReLU()\n",
      "  (drop6): Dropout(p=0.5, inplace=False)\n",
      "  (fc7): InnerProduct(in_features=1, out_features=4096, bias=True)\n",
      "  (relu7): ReLU()\n",
      "  (drop7): Dropout(p=0.5, inplace=False)\n",
      "  (fc8_flickr): InnerProduct(in_features=1, out_features=2, bias=True)\n",
      "  (prob): Softmax(dim=-1)\n",
      ")\n"
     ]
    }
   ],
   "source": [
    "import caffemodel2pytorch.caffemodel2pytorch as caffe2pytorch\n",
    "\n",
    "model = caffe2pytorch.Net(prototxt='caffe_model/hand_detector.prototxt', caffemodel='caffe_model/hand_detector.caffemodel',\n",
    "                          caffe_proto='https://raw.githubusercontent.com/BVLC/caffe/master/src/caffe/proto/caffe.proto')\n",
    "\n",
    "print(model)"
   ]
  },
  {
   "cell_type": "code",
   "execution_count": null,
   "metadata": {},
   "outputs": [],
   "source": []
  }
 ],
 "metadata": {
  "kernelspec": {
   "display_name": "cybertruck-env",
   "language": "python",
   "name": "python3"
  },
  "language_info": {
   "codemirror_mode": {
    "name": "ipython",
    "version": 3
   },
   "file_extension": ".py",
   "mimetype": "text/x-python",
   "name": "python",
   "nbconvert_exporter": "python",
   "pygments_lexer": "ipython3",
   "version": "3.7.16"
  }
 },
 "nbformat": 4,
 "nbformat_minor": 2
}
