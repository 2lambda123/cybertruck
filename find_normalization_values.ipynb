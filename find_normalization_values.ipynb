{
 "cells": [
  {
   "cell_type": "code",
   "execution_count": 5,
   "metadata": {},
   "outputs": [],
   "source": [
    "from cnn.dataset import V2Dataset\n",
    "\n",
    "import torch\n",
    "from torch.utils.data import DataLoader\n",
    "from torchvision.transforms import v2\n",
    "\n",
    "train_transform = v2.Compose([\n",
    "    v2.ToPILImage(),\n",
    "    v2.Resize((640,640)),\n",
    "    v2.RandomHorizontalFlip(p=0.4),\n",
    "    v2.RandomPerspective(distortion_scale=0.15, p=0.35),\n",
    "    v2.ColorJitter(brightness=0.1, contrast=0.1, saturation=0.1, hue=0.1),\n",
    "    v2.ToImage(),\n",
    "    v2.ToDtype(torch.float32, scale=True),\n",
    "    # v2.Normalize(mean=[0.485, 0.456, 0.406], std=[0.229, 0.224, 0.225])\n",
    "])\n",
    "\n",
    "test_transform = v2.Compose([\n",
    "    v2.ToPILImage(),\n",
    "    v2.Resize((224,224)),\n",
    "    v2.ToImage(),\n",
    "    v2.ToDtype(torch.float32, scale=True),\n",
    "    # v2.Normalize(mean=[0.485, 0.456, 0.406], std=[0.229, 0.224, 0.225])\n",
    "])\n",
    "\n",
    "data_dir = 'data/v2_cam1_cam2_split_by_driver'\n",
    "\n",
    "train_dataset = V2Dataset(cam1_path=f'{data_dir}/Camera 1/train', cam2_path=f'{data_dir}/Camera 2/train', transform=train_transform)\n",
    "train_loader = DataLoader(train_dataset, batch_size=64, shuffle=True)\n",
    "\n",
    "val_dataset = V2Dataset(cam1_path=f'{data_dir}/Camera 1/test', cam2_path=f'{data_dir}/Camera 2/test', transform=test_transform)\n",
    "val_loader = DataLoader(val_dataset, batch_size=64, shuffle=True)"
   ]
  },
  {
   "cell_type": "code",
   "execution_count": 6,
   "metadata": {},
   "outputs": [],
   "source": [
    "def get_mean_and_std(data_loader):\n",
    "\n",
    "    mean_accumulator = torch.zeros(3)\n",
    "    std_accumulator = torch.zeros(3)\n",
    "    num_samples = 0\n",
    "\n",
    "    for data, _ in data_loader:\n",
    "        # Assuming data is a tensor or image\n",
    "        mean_accumulator += torch.mean(data, dim=(-3, -2, -1))\n",
    "        std_accumulator += torch.std(data, dim=(-3, -2, -1))\n",
    "        num_samples += 1\n",
    "\n",
    "    mean_values = mean_accumulator / num_samples\n",
    "    std_values = std_accumulator / num_samples\n",
    "\n",
    "    print(f'mean_values: {mean_values}')\n",
    "    print(f'std values: {std_values}')\n",
    "\n"
   ]
  },
  {
   "cell_type": "code",
   "execution_count": 3,
   "metadata": {},
   "outputs": [
    {
     "name": "stdout",
     "output_type": "stream",
     "text": [
      "mean_values: tensor([0.3102, 0.3102, 0.3102])\n",
      "std values: tensor([0.3151, 0.3151, 0.3151])\n"
     ]
    }
   ],
   "source": [
    "get_mean_and_std(train_dataset)"
   ]
  },
  {
   "cell_type": "code",
   "execution_count": 4,
   "metadata": {},
   "outputs": [
    {
     "name": "stdout",
     "output_type": "stream",
     "text": [
      "mean_values: tensor([0.3879, 0.3879, 0.3879])\n",
      "std values: tensor([0.3001, 0.3001, 0.3001])\n"
     ]
    }
   ],
   "source": [
    "get_mean_and_std(val_dataset)"
   ]
  },
  {
   "cell_type": "code",
   "execution_count": null,
   "metadata": {},
   "outputs": [],
   "source": []
  }
 ],
 "metadata": {
  "kernelspec": {
   "display_name": "torch_env",
   "language": "python",
   "name": "python3"
  },
  "language_info": {
   "codemirror_mode": {
    "name": "ipython",
    "version": 3
   },
   "file_extension": ".py",
   "mimetype": "text/x-python",
   "name": "python",
   "nbconvert_exporter": "python",
   "pygments_lexer": "ipython3",
   "version": "3.10.13"
  }
 },
 "nbformat": 4,
 "nbformat_minor": 2
}
